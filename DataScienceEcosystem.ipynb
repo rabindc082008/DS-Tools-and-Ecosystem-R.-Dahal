{
 "cells": [
  {
   "cell_type": "markdown",
   "id": "cbd17d59-e600-4582-bbaf-c91dedaabab9",
   "metadata": {},
   "source": [
    "# Data Science Tools and Ecosystem"
   ]
  },
  {
   "cell_type": "markdown",
   "id": "28a41624-8744-4e08-bf13-7f425d00d91b",
   "metadata": {},
   "source": [
    "In this notebook, Data Science Tools and Ecosystem are summarized"
   ]
  },
  {
   "cell_type": "markdown",
   "id": "2a4e6b78-875d-453c-8f54-ff40d8d6b598",
   "metadata": {},
   "source": [
    "Objectives: \n",
    "- List popular languages of data science\n",
    "- Write and run python codes for simple arithmetic operations\n",
    "- Create markdown cells to write an ordered (numbered) or bullet point lists\n",
    "- Create markdown cells to make  atable"
   ]
  },
  {
   "cell_type": "markdown",
   "id": "e63feaef-3538-40ec-b406-998b69947752",
   "metadata": {},
   "source": [
    "Some of the popular languages that Data Scientists use are:\n",
    "1. Python\n",
    "2. R\n",
    "3. SQL\n",
    "4. Scala\n",
    "5. Java\n",
    "6. Julia\n",
    "7. C++\n",
    "8. JS"
   ]
  },
  {
   "cell_type": "markdown",
   "id": "c2162e04-7f2c-4304-8af8-635964641b65",
   "metadata": {},
   "source": [
    "Some of the commonly used libraries used by Data Scientists include: \n",
    "1. Pandas\n",
    "2. Numpy\n",
    "3. Matplotlib\n",
    "4. Seaborn\n",
    "5. Scikit learn\n",
    "6. Tensorflow\n"
   ]
  },
  {
   "cell_type": "markdown",
   "id": "50072456-de3d-412a-b0fc-31fbae65d7d7",
   "metadata": {},
   "source": [
    "|Data Science Tools|\n",
    "|----|\n",
    "|Oracle database|\n",
    "|MS SQL Server|\n",
    "|IBM DB2|\n",
    "|Informatica|\n",
    "|Talend|\n",
    " |Hadoop file system|"
   ]
  },
  {
   "cell_type": "markdown",
   "id": "0c090f20-e2e6-4bb2-9736-3f7e650a9e27",
   "metadata": {},
   "source": [
    "### Below are a few examples of evaluating arithmetic expressions in Python"
   ]
  },
  {
   "cell_type": "code",
   "execution_count": 13,
   "id": "69e91bd1-0941-46ec-bc13-362012ff413e",
   "metadata": {},
   "outputs": [
    {
     "data": {
      "text/plain": [
       "17"
      ]
     },
     "execution_count": 13,
     "metadata": {},
     "output_type": "execute_result"
    }
   ],
   "source": [
    "#This a simple arithmetic expression to mutiply then add integers\n",
    "(3*4)+5"
   ]
  },
  {
   "cell_type": "code",
   "execution_count": 11,
   "id": "db038d18-d933-43b9-9072-ebd57ca193eb",
   "metadata": {},
   "outputs": [
    {
     "data": {
      "text/plain": [
       "3.3333333333333335"
      ]
     },
     "execution_count": 11,
     "metadata": {},
     "output_type": "execute_result"
    }
   ],
   "source": [
    "#This will convert 200 minutes to hours by diving by 60\n",
    "200/60"
   ]
  },
  {
   "cell_type": "markdown",
   "id": "35cabd55-6e3e-4232-af33-2c752c766e75",
   "metadata": {},
   "source": [
    "## Author\n",
    "Rabin Dahal "
   ]
  },
  {
   "cell_type": "code",
   "execution_count": null,
   "id": "3b758c0f-3af0-4c09-a2fc-6f9ffa6dde85",
   "metadata": {},
   "outputs": [],
   "source": []
  }
 ],
 "metadata": {
  "kernelspec": {
   "display_name": "Python 3 (ipykernel)",
   "language": "python",
   "name": "python3"
  },
  "language_info": {
   "codemirror_mode": {
    "name": "ipython",
    "version": 3
   },
   "file_extension": ".py",
   "mimetype": "text/x-python",
   "name": "python",
   "nbconvert_exporter": "python",
   "pygments_lexer": "ipython3",
   "version": "3.12.4"
  }
 },
 "nbformat": 4,
 "nbformat_minor": 5
}
